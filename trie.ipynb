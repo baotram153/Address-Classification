{
 "cells": [
  {
   "cell_type": "markdown",
   "metadata": {},
   "source": [
    "## Helper Libraries"
   ]
  },
  {
   "cell_type": "code",
   "execution_count": 34,
   "metadata": {},
   "outputs": [],
   "source": [
    "from typing import *\n",
    "import json\n",
    "import pandas as pd"
   ]
  },
  {
   "cell_type": "markdown",
   "metadata": {},
   "source": [
    "## Process Data"
   ]
  },
  {
   "cell_type": "code",
   "execution_count": 48,
   "metadata": {},
   "outputs": [],
   "source": [
    "def process_data(json_file: str):\n",
    "    with open(json_file, 'r', encoding=\"utf8\") as f:\n",
    "        data = json.load(f)\n",
    "    provinces = []\n",
    "    for province in data:\n",
    "        provinces.append(province['VietnameseName'])"
   ]
  },
  {
   "cell_type": "code",
   "execution_count": 49,
   "metadata": {},
   "outputs": [
    {
     "ename": "KeyError",
     "evalue": "'VietnameseName'",
     "output_type": "error",
     "traceback": [
      "\u001b[1;31m---------------------------------------------------------------------------\u001b[0m",
      "\u001b[1;31mKeyError\u001b[0m                                  Traceback (most recent call last)",
      "Cell \u001b[1;32mIn[49], line 1\u001b[0m\n\u001b[1;32m----> 1\u001b[0m \u001b[43mprocess_data\u001b[49m\u001b[43m(\u001b[49m\u001b[38;5;124;43m'\u001b[39;49m\u001b[38;5;124;43mdata\u001b[39;49m\u001b[38;5;130;43;01m\\\\\u001b[39;49;00m\u001b[38;5;124;43msimplified_json_generated_data_vn_units_minified.json\u001b[39;49m\u001b[38;5;124;43m'\u001b[39;49m\u001b[43m)\u001b[49m\n",
      "Cell \u001b[1;32mIn[48], line 6\u001b[0m, in \u001b[0;36mprocess_data\u001b[1;34m(json_file)\u001b[0m\n\u001b[0;32m      4\u001b[0m provinces \u001b[38;5;241m=\u001b[39m []\n\u001b[0;32m      5\u001b[0m \u001b[38;5;28;01mfor\u001b[39;00m province \u001b[38;5;129;01min\u001b[39;00m data:\n\u001b[1;32m----> 6\u001b[0m     provinces\u001b[38;5;241m.\u001b[39mappend(\u001b[43mprovince\u001b[49m\u001b[43m[\u001b[49m\u001b[38;5;124;43m'\u001b[39;49m\u001b[38;5;124;43mVietnameseName\u001b[39;49m\u001b[38;5;124;43m'\u001b[39;49m\u001b[43m]\u001b[49m)\n",
      "\u001b[1;31mKeyError\u001b[0m: 'VietnameseName'"
     ]
    }
   ],
   "source": [
    "process_data('data\\\\simplified_json_generated_data_vn_units_minified.json')"
   ]
  },
  {
   "cell_type": "markdown",
   "metadata": {},
   "source": [
    "## Preprocess"
   ]
  },
  {
   "cell_type": "code",
   "execution_count": null,
   "metadata": {},
   "outputs": [],
   "source": [
    "def read_input(filename: str):\n",
    "    pass"
   ]
  },
  {
   "cell_type": "code",
   "execution_count": null,
   "metadata": {},
   "outputs": [],
   "source": [
    "def preprocess(input):\n",
    "    pass"
   ]
  },
  {
   "cell_type": "markdown",
   "metadata": {},
   "source": [
    "## Tree Traverse"
   ]
  },
  {
   "cell_type": "code",
   "execution_count": 31,
   "metadata": {},
   "outputs": [],
   "source": [
    "class TrieNode:\n",
    "    # Info saved at the end of each word\n",
    "    #    - is_end: bool\n",
    "    #    - related province / district / ward\n",
    "    def __init__(self):\n",
    "        self.children = {}\n",
    "        self.is_end = False\n",
    "\n",
    "    def insert(self, word):\n",
    "        node = self\n",
    "        for c in word:\n",
    "            if c not in node.children:\n",
    "                node.children[c] = TrieNode()\n",
    "            node = node.children[c]\n",
    "        node.is_end = True\n",
    "\n",
    "    def search(self, word):\n",
    "        node = self\n",
    "        for c in word:\n",
    "            if c not in node.children:\n",
    "                return False\n",
    "            node = node.children[c]\n",
    "        return node.is_end\n",
    "    \n",
    "    def dfs (self, node, word_list, word):\n",
    "        for child in node.children:\n",
    "            if node.children[child].is_end:\n",
    "                word_list.append(word + child)\n",
    "            self.dfs(node.children[child], word_list, word + child)\n",
    "    \n",
    "    def startsWith(self, prefix):\n",
    "        node = self\n",
    "        for c in prefix:\n",
    "            if c not in node.children:\n",
    "                return False\n",
    "            node = node.children[c]\n",
    "        word_list = []\n",
    "        if node.is_end:\n",
    "            word_list.append(prefix)\n",
    "        self.dfs(node, word_list, prefix)\n",
    "        return word_list\n",
    "\n",
    "    def delete(self, word):     # return False if word not found, True if word deleted\n",
    "        node = self\n",
    "        for c in word:\n",
    "            if c not in node.children:\n",
    "                return False\n",
    "            node = node.children[c]\n",
    "        node.is_end = False\n",
    "        return True"
   ]
  },
  {
   "cell_type": "markdown",
   "metadata": {},
   "source": [
    "## Test"
   ]
  },
  {
   "cell_type": "code",
   "execution_count": 25,
   "metadata": {},
   "outputs": [],
   "source": [
    "def test_trie():\n",
    "    root = TrieNode()\n",
    "    root.insert(\"apple\")\n",
    "    print(root.search(\"apple\"))   # return True\n",
    "    print(root.search(\"app\"))     # return False\n",
    "    print(root.startsWith(\"app\")) # return True\n",
    "    root.insert(\"applepine\")\n",
    "    print(root.search(\"app\"))     # return True\n",
    "    print(root.startsWith(\"appl\"))\n",
    "    root.insert(\"app\")\n",
    "    print(root.startsWith(\"app\"))"
   ]
  },
  {
   "cell_type": "code",
   "execution_count": null,
   "metadata": {},
   "outputs": [],
   "source": [
    "def test_data_process():\n",
    "    province_trie = process_data(\"data.json\")\n",
    "    return province_trie"
   ]
  },
  {
   "cell_type": "code",
   "execution_count": 29,
   "metadata": {},
   "outputs": [
    {
     "name": "stdout",
     "output_type": "stream",
     "text": [
      "True\n",
      "False\n",
      "['apple']\n",
      "False\n",
      "['apple', 'applepine']\n",
      "['app', 'apple', 'applepine']\n"
     ]
    }
   ],
   "source": [
    "test_trie()"
   ]
  },
  {
   "cell_type": "code",
   "execution_count": 30,
   "metadata": {},
   "outputs": [
    {
     "name": "stdout",
     "output_type": "stream",
     "text": [
      "hellohello\n",
      "hello\n"
     ]
    }
   ],
   "source": [
    "word = \"hello\"\n",
    "word2 = \"hello\"\n",
    "print(word + word2)\n",
    "print(word)"
   ]
  }
 ],
 "metadata": {
  "kernelspec": {
   "display_name": "Python 3",
   "language": "python",
   "name": "python3"
  },
  "language_info": {
   "codemirror_mode": {
    "name": "ipython",
    "version": 3
   },
   "file_extension": ".py",
   "mimetype": "text/x-python",
   "name": "python",
   "nbconvert_exporter": "python",
   "pygments_lexer": "ipython3",
   "version": "3.11.4"
  }
 },
 "nbformat": 4,
 "nbformat_minor": 2
}
